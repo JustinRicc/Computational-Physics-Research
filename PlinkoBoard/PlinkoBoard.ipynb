{
 "cells": [
  {
   "cell_type": "markdown",
   "id": "d41d6ac3",
   "metadata": {},
   "source": [
    "# Distance of a ball from origin in a Plinko Board\n",
    "\n",
    "This simulation will test to see the average distance of a ball from its origin when dropped randomly into a plinko board. The ball has inelastic collisions with the board, resulting in loss of Kinetic Energy with each collision. One thing to consider is that the walls do bound the results because it keeps it within the certain space, but the point of this is to test within what would be considered a normal plinko board one would see when a plinko board is used."
   ]
  },
  {
   "cell_type": "markdown",
   "id": "819fd5cb",
   "metadata": {},
   "source": [
    "## Research Questions\n",
    "\n",
    "1. Will the ball always fall within a certain range of distance from its origin?\n",
    "\n",
    "\n",
    "2. What effect does the amount of kinetic energy lost have on the balls distance?\n"
   ]
  },
  {
   "cell_type": "markdown",
   "id": "2bc34208",
   "metadata": {},
   "source": [
    "### The Physics\n",
    "\n",
    "To have our ball fall through the plinko board, we have to make sure it doesn't break the laws of physics. Our ball has to feel the force of gravity as it falls. To accomplish this we use the equation $\\vec{v_f}  = \\vec{v_i} + \\frac{\\vec{Fnet}}{m}\\ \\times dt$ where $\\vec{v_f}$ is the final velocity, $\\vec{v_i}$ is the initial velocity, $\\vec{Fnet}$ is the net force and m $m$ is the mass.\n",
    " \n",
    "We set $\\vec{Fnet} = <0, mass*g, 0>$, which sets the net force to be the force of gravity\n",
    "\n",
    "When a collision happens, we find the velocity of the collision by finding the radial and tangential velocity\n",
    "\n",
    "We find out new velocity after our collisions by doing $\\vec{v} = \\vec{v_\\mathrm{tan}} + -\\vec{v_\\mathrm{rad}}$\n",
    "\n",
    "We find the radial velocity with $\\vec{v_\\mathrm{rad}} = (\\vec{v} \\cdot rhat) \\times rhat$ where rhat is the unit vector of the direction of the collision\n",
    "\n",
    "We find the tangential velocity using $\\vec{v_\\mathrm{tan}} = \\vec{v} - \\vec{v_\\mathrm{rad}}$\n",
    "\n",
    "We account for kinetic energy loss by multiplying $\\vec{v_\\mathrm{rad}}$ by .5\n",
    "\n"
   ]
  },
  {
   "cell_type": "markdown",
   "id": "63832cdc",
   "metadata": {},
   "source": [
    "### The simulation\n",
    "\n",
    "The simulation is set up to create the plinko board, spawn our ball, run it through our board and then reset it to the top until we've run the ball through the board 100 times. "
   ]
  },
  {
   "cell_type": "code",
   "execution_count": 2,
   "id": "a1193df7",
   "metadata": {},
   "outputs": [
    {
     "data": {
      "text/html": [
       "<div id=\"glowscript\" class=\"glowscript\"></div>"
      ],
      "text/plain": [
       "<IPython.core.display.HTML object>"
      ]
     },
     "metadata": {},
     "output_type": "display_data"
    },
    {
     "data": {
      "application/javascript": [
       "if (typeof Jupyter !== \"undefined\") { window.__context = { glowscript_container: $(\"#glowscript\").removeAttr(\"id\")};}else{ element.textContent = ' ';}"
      ],
      "text/plain": [
       "<IPython.core.display.Javascript object>"
      ]
     },
     "metadata": {},
     "output_type": "display_data"
    }
   ],
   "source": [
    "from vpython import *\n",
    "import random as rand\n",
    "import matplotlib.pyplot as plt"
   ]
  },
  {
   "cell_type": "code",
   "execution_count": 3,
   "id": "64fbd350",
   "metadata": {},
   "outputs": [],
   "source": [
    "def make_rods():\n",
    "    rods = []\n",
    "    for i in range(-9,19):\n",
    "        ev = i%2\n",
    "        if ev == 0:\n",
    "            for j in range(-14,15):\n",
    "                if j%2 == 0:\n",
    "                    rod = cylinder(pos=vector(j,i,-.5),axis=vector(0,0,1),radius=.1, collided = False)\n",
    "                    rods.append(rod)\n",
    "                \n",
    "        elif ev != 0:\n",
    "            for j in range(-14,15):\n",
    "                if j%2 != 0:\n",
    "                    rod = cylinder(pos=vector(j,i,-.5),axis=vector(0,0,1),radius=.1, collided = False)\n",
    "                    rods.append(rod)\n",
    "                    \n",
    "    return rods"
   ]
  },
  {
   "cell_type": "code",
   "execution_count": 4,
   "id": "3dbc317b",
   "metadata": {},
   "outputs": [],
   "source": [
    "def check_collision(rods,ball):\n",
    "    hits = []\n",
    "    distance = []\n",
    "    for i in range(len(rods)):\n",
    "        rodcenter = rods[i].pos + rods[i].axis/2\n",
    "        dist = ball.pos-rodcenter\n",
    "        R = ball.radius+rods[i].radius\n",
    "        if mag(dist) < R and rods[i].collided == False:\n",
    "            hits.append(i)\n",
    "            distance.append(dist)\n",
    "            rods[i].collided = True\n",
    "            \n",
    "        elif mag(dist) > R and rods[i].collided == True:\n",
    "            rods[i].collided = False\n",
    "            \n",
    "      \n",
    "    return hits, distance    "
   ]
  },
  {
   "cell_type": "code",
   "execution_count": 12,
   "id": "08512bec",
   "metadata": {},
   "outputs": [
    {
     "data": {
      "text/html": [
       "<div id=\"glowscript\" class=\"glowscript\"></div>"
      ],
      "text/plain": [
       "<IPython.core.display.HTML object>"
      ]
     },
     "metadata": {},
     "output_type": "display_data"
    },
    {
     "data": {
      "application/javascript": [
       "if (typeof Jupyter !== \"undefined\") { window.__context = { glowscript_container: $(\"#glowscript\").removeAttr(\"id\")};}else{ element.textContent = ' ';}"
      ],
      "text/plain": [
       "<IPython.core.display.Javascript object>"
      ]
     },
     "metadata": {},
     "output_type": "display_data"
    }
   ],
   "source": [
    "scene = canvas(title=\"Plinko Board\")\n",
    "scene.center = vector(0,5,0)\n",
    "\n",
    "Lwall = box(pos = vec(-15, 4, 0), size = vec(1, 30, 1), color=color.white)\n",
    "Rwall = box(pos = vec(15, 4, 0), size = vec(1, 30, 1), color=color.white)\n",
    "Bwall = box(pos = vec(0, -10, 0), size = vec(30, 1, 1), color=color.white)\n",
    "\n",
    "rods = []\n",
    "rods = make_rods()\n",
    "\n",
    "ball = sphere(pos = vec(rand.uniform(-14,14),20,0), radius = .4, color = color.cyan)\n",
    "\n",
    "ball.p = vec(0,0,0)\n",
    "ball.m = .001\n",
    "ball.v = vec(0,0,0)\n",
    "\n",
    "#Constants\n",
    "g = -9.8\n",
    "Fnet = vec(0,ball.m*g,0)\n",
    "t = 0\n",
    "dt = .001\n",
    "\n",
    "#\n",
    "displace = []\n",
    "balls = []\n",
    "count = 0\n",
    "origin = ball.pos.x\n",
    "scene.pause()\n",
    "while count < 50:\n",
    "    rate(50000)\n",
    "    hits, R = check_collision(rods,ball) \n",
    "    ball.v = ball.v + Fnet/ball.m*dt \n",
    "    ball.pos = ball.pos + ball.v*dt\n",
    "    \n",
    "    if ball.pos.x > 14.25:\n",
    "            ball.v.x = -abs(ball.v.x)\n",
    "    elif ball.pos.x < -14.25:\n",
    "            ball.v.x = abs(ball.v.x)\n",
    "\n",
    "    \n",
    "    if len(hits) == 1:\n",
    "        r = R[0]\n",
    "        r.z = 0\n",
    "        rhat = hat(r)\n",
    "        vballrad = dot(ball.v,rhat)*rhat #rad comp of ball.v\n",
    "        vballtan = ball.v - vballrad #tan comp of ball.v\n",
    "        vballrad = - vballrad * .5 #reverse ball.rad due to collision\n",
    "        ball.v = vballtan + vballrad #new ball.v after collision\n",
    "        \n",
    "    if ball.pos.y < -9:\n",
    "        dis = abs(origin - ball.pos.x)\n",
    "        displace.append(dis)\n",
    "        ball.pos = vec(rand.uniform(-14,14), 20, 0)\n",
    "        origin = ball.pos.x\n",
    "        ball.v = vec(0,0,0)\n",
    "        count += 1\n",
    "        balls.append(count)"
   ]
  },
  {
   "cell_type": "code",
   "execution_count": 13,
   "id": "8d9ff4de",
   "metadata": {},
   "outputs": [
    {
     "data": {
      "image/png": "[encoded data removed]",
      "text/plain": [
       "<Figure size 864x576 with 1 Axes>"
      ]
     },
     "metadata": {
      "needs_background": "light"
     },
     "output_type": "display_data"
    }
   ],
   "source": [
    "plt.figure(figsize=(12,8))\n",
    "plt.title('distance per ball')\n",
    "plt.plot(balls,displace,'b.')\n",
    "plt.xlabel(\"ball\")\n",
    "plt.ylabel(\"distance\")\n",
    "plt.show()"
   ]
  },
  {
   "cell_type": "markdown",
   "id": "aee708a0",
   "metadata": {},
   "source": [
    "### Distance\n",
    "\n",
    "As we can see from the graph above, there seems to be a random distribution of distances after running a ball through the Plink Board 50 times. From this I would make the assumption no matter how many times we run the simulation we would not see any type of common distance from it's origin."
   ]
  },
  {
   "cell_type": "markdown",
   "id": "04982a11",
   "metadata": {},
   "source": [
    "### Kinetic Energy Loss\n",
    "\n",
    "In the code segment below we will run the simulation again for the same amount of time, but we will instead multiply $v_\\mathrm{rad}$ by .7 to see how it affects the displacement from the origin."
   ]
  },
  {
   "cell_type": "code",
   "execution_count": 15,
   "id": "85140bbf",
   "metadata": {},
   "outputs": [
    {
     "data": {
      "text/html": [
       "<div id=\"glowscript\" class=\"glowscript\"></div>"
      ],
      "text/plain": [
       "<IPython.core.display.HTML object>"
      ]
     },
     "metadata": {},
     "output_type": "display_data"
    },
    {
     "data": {
      "application/javascript": [
       "if (typeof Jupyter !== \"undefined\") { window.__context = { glowscript_container: $(\"#glowscript\").removeAttr(\"id\")};}else{ element.textContent = ' ';}"
      ],
      "text/plain": [
       "<IPython.core.display.Javascript object>"
      ]
     },
     "metadata": {},
     "output_type": "display_data"
    }
   ],
   "source": [
    "scene = canvas(title=\"Plinko Board\")\n",
    "scene.center = vector(0,5,0)\n",
    "\n",
    "Lwall = box(pos = vec(-15, 4, 0), size = vec(1, 30, 1), color=color.white)\n",
    "Rwall = box(pos = vec(15, 4, 0), size = vec(1, 30, 1), color=color.white)\n",
    "Bwall = box(pos = vec(0, -10, 0), size = vec(30, 1, 1), color=color.white)\n",
    "\n",
    "rods = []\n",
    "rods = make_rods()\n",
    "\n",
    "ball = sphere(pos = vec(rand.uniform(-14,14),20,0), radius = .4, color = color.cyan)\n",
    "\n",
    "ball.p = vec(0,0,0)\n",
    "ball.m = .001\n",
    "ball.v = vec(0,0,0)\n",
    "\n",
    "#Constants\n",
    "g = -9.8\n",
    "Fnet = vec(0,ball.m*g,0)\n",
    "t = 0\n",
    "dt = .001\n",
    "\n",
    "#\n",
    "displace = []\n",
    "balls = []\n",
    "count = 0\n",
    "origin = ball.pos.x\n",
    "scene.pause()\n",
    "while count < 50:\n",
    "    rate(50000)\n",
    "    hits, R = check_collision(rods,ball) \n",
    "    ball.v = ball.v + Fnet/ball.m*dt \n",
    "    ball.pos = ball.pos + ball.v*dt\n",
    "    \n",
    "    if ball.pos.x > 14.25:\n",
    "            ball.v.x = -abs(ball.v.x)\n",
    "    elif ball.pos.x < -14.25:\n",
    "            ball.v.x = abs(ball.v.x)\n",
    "\n",
    "    \n",
    "    if len(hits) == 1:\n",
    "        r = R[0]\n",
    "        r.z = 0\n",
    "        rhat = hat(r)\n",
    "        vballrad = dot(ball.v,rhat)*rhat #rad comp of ball.v\n",
    "        vballtan = ball.v - vballrad #tan comp of ball.v\n",
    "        vballrad = - vballrad * .7 #reverse ball.rad due to collision\n",
    "        ball.v = vballtan + vballrad #new ball.v after collision\n",
    "        \n",
    "    if ball.pos.y < -9:\n",
    "        dis = abs(origin - ball.pos.x)\n",
    "        displace.append(dis)\n",
    "        ball.pos = vec(rand.uniform(-14,14), 20, 0)\n",
    "        origin = ball.pos.x\n",
    "        ball.v = vec(0,0,0)\n",
    "        count += 1\n",
    "        balls.append(count)\n",
    "        \n"
   ]
  },
  {
   "cell_type": "code",
   "execution_count": 16,
   "id": "e01cdb39",
   "metadata": {},
   "outputs": [
    {
     "data": {
      "image/png": "[encoded data removed]",
      "text/plain": [
       "<Figure size 864x576 with 1 Axes>"
      ]
     },
     "metadata": {
      "needs_background": "light"
     },
     "output_type": "display_data"
    }
   ],
   "source": [
    "plt.figure(figsize=(12,8))\n",
    "plt.title('distance per ball')\n",
    "plt.plot(balls,displace,'b.')\n",
    "plt.xlabel(\"ball\")\n",
    "plt.ylabel(\"displacement\")\n",
    "plt.show()"
   ]
  },
  {
   "cell_type": "markdown",
   "id": "84190d89",
   "metadata": {},
   "source": [
    "If we compare our findings the the original graph, we an even larger range of distances. So with a lower loss of kinetic energy, the ball has greater displacement from the origin through the 50 simulations."
   ]
  },
  {
   "cell_type": "markdown",
   "id": "56b22103",
   "metadata": {},
   "source": [
    "## Conclusion\n",
    "\n",
    "After running the experiment, I can answer each of my research questions. First, we found that there is no common range of distances on our ball when ran through our simulation. There is a random dispersion in our graph which shows it is not predictable how far the ball will be from its origin. Using our baseline test, we then compared it to the same simulation using a lower factor of kinetic energy lost."
   ]
  },
  {
   "cell_type": "code",
   "execution_count": null,
   "id": "746c6dac",
   "metadata": {},
   "outputs": [],
   "source": []
  }
 ],
 "metadata": {
  "kernelspec": {
   "display_name": "Python 3 (ipykernel)",
   "language": "python",
   "name": "python3"
  },
  "language_info": {
   "codemirror_mode": {
    "name": "ipython",
    "version": 3
   },
   "file_extension": ".py",
   "mimetype": "text/x-python",
   "name": "python",
   "nbconvert_exporter": "python",
   "pygments_lexer": "ipython3",
   "version": "3.9.7"
  }
 },
 "nbformat": 4,
 "nbformat_minor": 5
}
